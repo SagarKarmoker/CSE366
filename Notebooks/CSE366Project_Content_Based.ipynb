{
  "nbformat": 4,
  "nbformat_minor": 0,
  "metadata": {
    "colab": {
      "provenance": []
    },
    "kernelspec": {
      "name": "python3",
      "display_name": "Python 3"
    },
    "language_info": {
      "name": "python"
    }
  },
  "cells": [
    {
      "cell_type": "markdown",
      "source": [
        "Dataset: https://www.kaggle.com/datasets/karkavelrajaj/amazon-sales-dataset"
      ],
      "metadata": {
        "id": "6PANXeoNH21V"
      }
    },
    {
      "cell_type": "code",
      "execution_count": 1,
      "metadata": {
        "id": "dI62j2Lk4Gjq"
      },
      "outputs": [],
      "source": [
        "import numpy as np\n",
        "import pandas as pd\n",
        "import difflib\n",
        "from sklearn.feature_extraction.text import TfidfVectorizer\n",
        "from sklearn.metrics.pairwise import cosine_similarity\n",
        "from numpy.lib.function_base import vectorize\n",
        "\n",
        "vectorizer = TfidfVectorizer()"
      ]
    },
    {
      "cell_type": "code",
      "source": [
        "#data source\n",
        "product_data = pd.read_csv('/content/drive/MyDrive/Colab Notebooks/Project/amazon_updated.csv')"
      ],
      "metadata": {
        "id": "jK5V3n_B5jMc"
      },
      "execution_count": 2,
      "outputs": []
    },
    {
      "cell_type": "code",
      "source": [
        "#selecting columns\n",
        "selected_col = ['product_id' ,'product_name', 'category', 'discounted_price' ,'rating', 'about_product' , 'rating_count']"
      ],
      "metadata": {
        "id": "wrNcX6tq5kZI"
      },
      "execution_count": 3,
      "outputs": []
    },
    {
      "cell_type": "code",
      "source": [
        "# deleting all null fields from selected colunms\n",
        "for col in selected_col:\n",
        "  product_data[col] = product_data[col].fillna('')"
      ],
      "metadata": {
        "id": "TS5z6BSc5o1P"
      },
      "execution_count": 4,
      "outputs": []
    },
    {
      "cell_type": "code",
      "source": [
        "#fixing some price symbol issue\n",
        "# update_matches = [price.replace('₹', '') for price in partial_matches]\n",
        "# print(update_matches)"
      ],
      "metadata": {
        "id": "oke1XT_u59k2"
      },
      "execution_count": 5,
      "outputs": []
    },
    {
      "cell_type": "code",
      "source": [
        "# making selected cols into a single string\n",
        "combined_col = product_data['product_id']+ ' ' + product_data['product_name'] + ' ' + product_data['category'] + ' ' + product_data['discounted_price'].str.replace('₹', '') + ' ' + product_data['rating']+ ' ' + product_data['about_product'] + ' '+ product_data['rating_count']"
      ],
      "metadata": {
        "id": "zNsYSPgC5sA3"
      },
      "execution_count": 6,
      "outputs": []
    },
    {
      "cell_type": "code",
      "source": [
        "print(combined_col[0])"
      ],
      "metadata": {
        "colab": {
          "base_uri": "https://localhost:8080/"
        },
        "id": "HBL1m0g4AQ1A",
        "outputId": "56bd8951-6b08-46a2-e4ae-8593dbd63518"
      },
      "execution_count": 7,
      "outputs": [
        {
          "output_type": "stream",
          "name": "stdout",
          "text": [
            "B07JW9H4J1 Wayona Nylon Braided USB to Lightning Fast Charging and Data Sync Cable Compatible for iPhone 13, 12,11, X, 8, 7, 6, 5, iPad Air, Pro, Mini (3 FT Pack of 1, Grey) Computers&Accessories|Accessories&Peripherals|Cables&Accessories|Cables|USBCables 399 4.2 High Compatibility : Compatible With iPhone 12, 11, X/XsMax/Xr ,iPhone 8/8 Plus,iPhone 7/7 Plus,iPhone 6s/6s Plus,iPhone 6/6 Plus,iPhone 5/5s/5c/se,iPad Pro,iPad Air 1/2,iPad mini 1/2/3,iPod nano7,iPod touch and more apple devices.|Fast Charge&Data Sync : It can charge and sync simultaneously at a rapid speed, Compatible with any charging adaptor, multi-port charging station or power bank.|Durability : Durable nylon braided design with premium aluminum housing and toughened nylon fiber wound tightly around the cord lending it superior durability and adding a bit to its flexibility.|High Security Level : It is designed to fully protect your device from damaging excessive current.Copper core thick+Multilayer shielding, Anti-interference, Protective circuit equipment.|WARRANTY: 12 months warranty and friendly customer services, ensures the long-time enjoyment of your purchase. If you meet any question or problem, please don't hesitate to contact us. 24,269\n"
          ]
        }
      ]
    },
    {
      "cell_type": "code",
      "source": [
        "col_vectors = vectorizer.fit_transform(combined_col)"
      ],
      "metadata": {
        "id": "2SbMhZZt5vzH"
      },
      "execution_count": 8,
      "outputs": []
    },
    {
      "cell_type": "code",
      "source": [
        "# Finding the similar product (index, score) for each product\n",
        "similar = cosine_similarity(col_vectors)"
      ],
      "metadata": {
        "id": "Upe7ff8m5yHw"
      },
      "execution_count": 9,
      "outputs": []
    },
    {
      "cell_type": "code",
      "source": [
        "#Taking the user input\n",
        "product_search = input('Enter product Name or Price or Rating or Catagory or about product: ')"
      ],
      "metadata": {
        "colab": {
          "base_uri": "https://localhost:8080/"
        },
        "id": "3zk6AW9350oq",
        "outputId": "946b7984-c3ca-4247-808a-b067050b0cd1"
      },
      "execution_count": 10,
      "outputs": [
        {
          "name": "stdout",
          "output_type": "stream",
          "text": [
            "Enter product Name or Price or Rating or Catagory or about product: wave lite\n"
          ]
        }
      ]
    },
    {
      "cell_type": "code",
      "source": [
        "#comined cols\n",
        "all_cols = list(combined_col)"
      ],
      "metadata": {
        "id": "lo-TiP0t53oI"
      },
      "execution_count": 11,
      "outputs": []
    },
    {
      "cell_type": "code",
      "source": [
        "# finding the close match to the searched prouct name\n",
        "# matched_product = difflib.get_close_matches(product_search, name_list)\n",
        "partial_matches = list(set(product for product in combined_col if product_search in product.lower()))\n",
        "\n",
        "print(partial_matches)"
      ],
      "metadata": {
        "colab": {
          "base_uri": "https://localhost:8080/"
        },
        "id": "OE78w_M-56-X",
        "outputId": "eb09ac3a-840c-472a-aef4-c75cba22355e"
      },
      "execution_count": 12,
      "outputs": [
        {
          "output_type": "stream",
          "name": "stdout",
          "text": [
            "['B09V12K8NT boAt Wave Lite Smartwatch with 1.69\" HD Display, Sleek Metal Body, HR & SpO2 Level Monitor, 140+ Watch Faces, Activity Tracker, Multiple Sports Modes, IP68 & 7 Days Battery Life(Active Black) Electronics|WearableTechnology|SmartWatches 1,499 3.9 Screen Size: The 1.69 inch HD full touch display with 500 nits of brightness will bring every detail to life!|Resolution: Get sharper color resolution that brightens your virtual world exponentially.|Slim Design: The ultra slim and lightweight design of the watch is ideal to keep you surfing your wave all day!|Sports Modes: Track your daily activity: calories burnt & steps taken. Choose from multiple sports modes which include Walking, Running, Cycling, Climbing, Yoga, Basketball, Football & many more|Google Fit & Apple Health: The watch supports Google and Apple Fit to seamlessly monitor your health.|IP Rating: Sweat freely while you work out with IP68 dust, sweat and splash resistance.|Watch Faces- Customize your style with 140+ based watch faces. 21,797', 'B09V175NP7 boAt Wave Lite Smartwatch with 1.69 Inches(4.29cm) HD Display, Heart Rate & SpO2 Level Monitor, Multiple Watch Faces, Activity Tracker, Multiple Sports Modes & IP68 (Scarlet Red) Electronics|WearableTechnology|SmartWatches 1,499 3.9 Screen Size: The 1.69 inch HD full touch display with 500 nits of brightness will bring every detail to life!|Resolution: Get sharper color resolution that brightens your virtual world exponentially.|Slim Design: The ultra slim and lightweight design of the watch is ideal to keep you surfing your wave all day!|Sports Modes: Track your daily activity: calories burnt & steps taken. Choose from multiple sports modes which include Walking, Running, Cycling, Climbing, Yoga, Basketball, Football & many more|Google Fit & Apple Health: The watch supports Google and Apple Fit to seamlessly monitor your health.|IP Rating: Sweat freely while you work out with IP68 dust, sweat and splash resistance.|Watch Faces- Customize your style with 140+ based watch faces. 21,796', 'B09V12K8NT boAt Wave Lite Smartwatch with 1.69\" HD Display, Sleek Metal Body, HR & SpO2 Level Monitor, 140+ Watch Faces, Activity Tracker, Multiple Sports Modes, IP68 & 7 Days Battery Life(Active Black) Electronics|WearableTechnology|SmartWatches 1,499 3.9 Screen Size: The 1.69 inch HD full touch display with 500 nits of brightness will bring every detail to life!|Resolution: Get sharper color resolution that brightens your virtual world exponentially.|Slim Design: The ultra slim and lightweight design of the watch is ideal to keep you surfing your wave all day!|Sports Modes: Track your daily activity: calories burnt & steps taken. Choose from multiple sports modes which include Walking, Running, Cycling, Climbing, Yoga, Basketball, Football & many more|Google Fit & Apple Health: The watch supports Google and Apple Fit to seamlessly monitor your health.|IP Rating: Sweat freely while you work out with IP68 dust, sweat and splash resistance.|Watch Faces- Customize your style with 140+ based watch faces. 21,796', 'B09V17S2BG boAt Wave Lite Smartwatch with 1.69\" HD Display, Heart Rate & SpO2 Level Monitor, Multiple Watch Faces, Activity Tracker, Multiple Sports Modes & IP68 (Deep Blue) Electronics|WearableTechnology|SmartWatches 1,499 3.9 Screen Size: The 1.69 inch HD full touch display with 500 nits of brightness will bring every detail to life!|Resolution: Get sharper color resolution that brightens your virtual world exponentially.|Slim Design: The ultra slim and lightweight design of the watch is ideal to keep you surfing your wave all day!|Sports Modes: Track your daily activity: calories burnt & steps taken. Choose from multiple sports modes which include Walking, Running, Cycling, Climbing, Yoga, Basketball, Football & many more|Google Fit & Apple Health: The watch supports Google and Apple Fit to seamlessly monitor your health.|IP Rating: Sweat freely while you work out with IP68 dust, sweat and splash resistance.|Watch Faces- Customize your style with 140+ based watch faces. 21,796']\n"
          ]
        }
      ]
    },
    {
      "cell_type": "code",
      "source": [
        "#close match all most same to user input\n",
        "close_match = partial_matches[0] #taking the first value of the list\n",
        "\n",
        "print(close_match)"
      ],
      "metadata": {
        "colab": {
          "base_uri": "https://localhost:8080/"
        },
        "id": "-IexP6m96Cn5",
        "outputId": "060efa45-65f1-42ae-92a6-fb3ab3c47ab7"
      },
      "execution_count": 13,
      "outputs": [
        {
          "output_type": "stream",
          "name": "stdout",
          "text": [
            "B09V12K8NT boAt Wave Lite Smartwatch with 1.69\" HD Display, Sleek Metal Body, HR & SpO2 Level Monitor, 140+ Watch Faces, Activity Tracker, Multiple Sports Modes, IP68 & 7 Days Battery Life(Active Black) Electronics|WearableTechnology|SmartWatches 1,499 3.9 Screen Size: The 1.69 inch HD full touch display with 500 nits of brightness will bring every detail to life!|Resolution: Get sharper color resolution that brightens your virtual world exponentially.|Slim Design: The ultra slim and lightweight design of the watch is ideal to keep you surfing your wave all day!|Sports Modes: Track your daily activity: calories burnt & steps taken. Choose from multiple sports modes which include Walking, Running, Cycling, Climbing, Yoga, Basketball, Football & many more|Google Fit & Apple Health: The watch supports Google and Apple Fit to seamlessly monitor your health.|IP Rating: Sweat freely while you work out with IP68 dust, sweat and splash resistance.|Watch Faces- Customize your style with 140+ based watch faces. 21,797\n"
          ]
        }
      ]
    },
    {
      "cell_type": "code",
      "source": [
        "pid = close_match.split()[0]\n",
        "index_of_the_product = product_data[product_data.product_id == pid]['index'].values[0]\n",
        "# print(index_of_the_product)\n"
      ],
      "metadata": {
        "id": "BhRsdywa6D_S"
      },
      "execution_count": 14,
      "outputs": []
    },
    {
      "cell_type": "code",
      "source": [
        "#similarity score\n",
        "similarity_score = list(enumerate(similar[index_of_the_product]))"
      ],
      "metadata": {
        "id": "dYM2UySH6G_5"
      },
      "execution_count": 15,
      "outputs": []
    },
    {
      "cell_type": "code",
      "source": [
        "#sorted similar product\n",
        "sorted_product = sorted(similarity_score, key= lambda pro:pro[1], reverse=True)"
      ],
      "metadata": {
        "id": "wt8-BkGf6Kgu"
      },
      "execution_count": 16,
      "outputs": []
    },
    {
      "cell_type": "code",
      "source": [
        "#suggest some product based on product name\n",
        "\n",
        "print(\"Product you may like: \\n\")\n",
        "\n",
        "i = 1\n",
        "for product in sorted_product:\n",
        "  idx = product[0]\n",
        "  name_of_product = product_data[product_data.index == idx]['product_name'].values[0]\n",
        "  price = product_data.loc[idx, 'discounted_price']\n",
        "  rating = product_data.loc[idx, 'rating']\n",
        "  pid = product_data.loc[idx, 'product_id']\n",
        "\n",
        "  if(i <= 10): #similar 10 product\n",
        "    print(i, '(' , price, 'rating', rating,  pid, ')', '.', name_of_product)\n",
        "    i+=1"
      ],
      "metadata": {
        "colab": {
          "base_uri": "https://localhost:8080/"
        },
        "id": "Q-OK2j1Q6NKA",
        "outputId": "d875f2d7-9b1c-47cc-c897-23a5bb6ba3a3"
      },
      "execution_count": 17,
      "outputs": [
        {
          "output_type": "stream",
          "name": "stdout",
          "text": [
            "Product you may like: \n",
            "\n",
            "1 ( ₹1,499 rating 3.9 B09V12K8NT ) . boAt Wave Lite Smartwatch with 1.69\" HD Display, Sleek Metal Body, HR & SpO2 Level Monitor, 140+ Watch Faces, Activity Tracker, Multiple Sports Modes, IP68 & 7 Days Battery Life(Active Black)\n",
            "2 ( ₹1,499 rating 3.9 B09V12K8NT ) . boAt Wave Lite Smartwatch with 1.69\" HD Display, Sleek Metal Body, HR & SpO2 Level Monitor, 140+ Watch Faces, Activity Tracker, Multiple Sports Modes, IP68 & 7 Days Battery Life(Active Black)\n",
            "3 ( ₹1,499 rating 3.9 B09V17S2BG ) . boAt Wave Lite Smartwatch with 1.69\" HD Display, Heart Rate & SpO2 Level Monitor, Multiple Watch Faces, Activity Tracker, Multiple Sports Modes & IP68 (Deep Blue)\n",
            "4 ( ₹1,499 rating 3.9 B09V175NP7 ) . boAt Wave Lite Smartwatch with 1.69 Inches(4.29cm) HD Display, Heart Rate & SpO2 Level Monitor, Multiple Watch Faces, Activity Tracker, Multiple Sports Modes & IP68 (Scarlet Red)\n",
            "5 ( ₹1,799 rating 4 B0949SBKMP ) . boAt Flash Edition Smart Watch with Activity Tracker, Multiple Sports Modes, 1.3\" Screen, 170+ Watch Faces, Sleep Monitor, Gesture, Camera & Music Control, IP68 & 7 Days Battery Life(Lightning Black)\n",
            "6 ( ₹1,799 rating 4 B0949SBKMP ) . boAt Flash Edition Smart Watch with Activity Tracker, Multiple Sports Modes, 1.3\" Screen, 170+ Watch Faces, Sleep Monitor, Gesture, Camera & Music Control, IP68 & 7 Days Battery Life(Lightning Black)\n",
            "7 ( ₹1,999 rating 3.8 B0B5B6PQCT ) . boAt Wave Call Smart Watch, Smart Talk with Advanced Dedicated Bluetooth Calling Chip, 1.69” HD Display with 550 NITS & 70% Color Gamut, 150+ Watch Faces, Multi-Sport Modes,HR,SpO2, IP68(Active Black)\n",
            "8 ( ₹1,799 rating 3.8 B0B5B6PQCT ) . boAt Wave Call Smart Watch, Smart Talk with Advanced Dedicated Bluetooth Calling Chip, 1.69” HD Display with 550 NITS & 70% Color Gamut, 150+ Watch Faces, Multi-Sport Modes,HR,SpO2, IP68(Active Black)\n",
            "9 ( ₹1,999 rating 3.8 B0B5D39BCD ) . boAt Wave Call Smart Watch, Smart Talk with Advanced Dedicated Bluetooth Calling Chip, 1.69” HD Display with 550 NITS & 70% Color Gamut, 150+ Watch Faces, Multi-Sport Modes, HR, SpO2, IP68(Deep Blue)\n",
            "10 ( ₹1,999 rating 3.8 B0B5DDJNH4 ) . boAt Wave Call Smart Watch, Smart Talk with Advanced Dedicated Bluetooth Calling Chip, 1.69” HD Display with 550 NITS & 70% Color Gamut, 150+ Watch Faces, Multi-Sport Modes, HR, SpO2, IP68(Mauve)\n"
          ]
        }
      ]
    }
  ]
}